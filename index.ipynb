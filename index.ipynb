{
 "cells": [
  {
   "cell_type": "markdown",
   "metadata": {},
   "source": [
    "# Autoencoders Lab\n",
    "\n",
    "## Objective\n",
    "\n",
    "In this lab, we'll learn how to write an **_encoder_** and a **_decoder_**, and stack them into an **_Autoencoder_**. \n",
    "\n",
    "## The Data Set\n",
    "\n",
    "For this lab, we'll be working with the MNIST dataset.  \n",
    "\n",
    "## Getting Started: What are Autoencoders?\n",
    "\n",
    "Autoencoders are a clever way of training two models together than can compress an image (or other data) down into a roughly equivalent representation in a lower-dimensional space (the **_Encoder_**), and then reconstruct the original image from that lower-dimensional representation.  At their heart, they're a compression technique.  However, they're not a _good_ compression technique, because they are **_lossy_**, meaning that some of the compressed information will be lost during the process--in the case of images, we can interpret this as the image being a bit lower quality after running through the autoencoder.  \n",
    "\n",
    "Although autoencoders are not great at compression, they're still a useful tool in our Deep Learning toolbox, as they introduce us to the concept of **_Data Manifolds_**.  Although basic autoencoders aren't too useful, it turns out that more advanced versions of autoencoders have amazing uses for **_generative techniques_**, such as **_Denoising Autoencoders_** and **_Variational Autoencoders_**. Before we can learn to use the advanced methods, we'll need to get some practice and mastery with basic autoencoders.  \n",
    "\n",
    "Run the cell below to import everything we'll need for this lab."
   ]
  },
  {
   "cell_type": "code",
   "execution_count": 1,
   "metadata": {},
   "outputs": [
    {
     "name": "stderr",
     "output_type": "stream",
     "text": [
      "Using TensorFlow backend.\n"
     ]
    }
   ],
   "source": [
    "import numpy as np\n",
    "import matplotlib.pyplot as plt\n",
    "%matplotlib inline\n",
    "np.random.seed(0)\n",
    "import keras\n",
    "from keras.datasets import mnist\n",
    "from keras.models import Model\n",
    "from keras.layers import Conv2D, Dense, Flatten, Input, MaxPooling2D, UpSampling2D"
   ]
  },
  {
   "cell_type": "markdown",
   "metadata": {},
   "source": [
    "## Creating Our First Autoencoder\n",
    "\n",
    "An Autoencoder is made up of 2 parts--an **_Encoder_**, and a **_Decoder_**.  These two parts are mirror images of each other.\n",
    "\n",
    "The **_encoder_** takes in some data, and outputs a representation of this data in a **_Z vector_**, which is the (generally equivalent) representation of the data in a lower dimensional space.  \n",
    "\n",
    "the **_decoder_** takes in a Z vector, and outputs the original image the encoder was given.  It won't be _exactly_ perfect, since these models are lossy and lose some information during the compression stage, but if the model is well trained, it'll generally be pretty close.  \n",
    "\n",
    "<img src='autoencoder_diagram.png'>\n",
    "\n",
    "**_Note:_** In this lab, we're using a kind of Keras syntax that you probably haven't seen in labs thus far.  Instead of creating a `Sequential()` object and using `.add()` to add each successive layer that we want, we instead instantiate the individual layers that we want, and specify what that given layer is connected to.  Then, we create a `Model` object and specify the input and output layers.\n",
    "\n",
    "To give you an example of this syntax so that you can get comfortable with it, we've provided the sample code for the first autoencoder in this lesson.  \n",
    "\n",
    "Before we can build the autoencoder, we'll need to decide how many dimensions we want our z-vector to be, which will determine the dimensionality of our encoded data.  \n",
    "\n",
    "In the cell below, set `encoding_dim` to 32. "
   ]
  },
  {
   "cell_type": "code",
   "execution_count": 2,
   "metadata": {},
   "outputs": [],
   "source": [
    "encoding_dim = 32"
   ]
  },
  {
   "cell_type": "markdown",
   "metadata": {},
   "source": [
    "Now, take a minute to read the code in the cell below and get a feel for the syntax used for constructing this autoencoder.  Then, run the cell to create a basic autoencoder.  "
   ]
  },
  {
   "cell_type": "code",
   "execution_count": 3,
   "metadata": {},
   "outputs": [],
   "source": [
    "input_img = Input(shape=(784,))\n",
    "encoded_image_layer = Dense(encoding_dim, activation='relu')(input_img)\n",
    "decoded_image_layer = Dense(784, activation='sigmoid')(encoded_image_layer)\n",
    "autoencoder = Model(input_img, decoded_image_layer)"
   ]
  },
  {
   "cell_type": "markdown",
   "metadata": {},
   "source": [
    "Now that we have the full autoencoder, we need to store the encoder and the decoder separately, so that we can use them one at a time once the model is trained.  We can do this by creating new Model objects, but referencing the layers from the model we created above. \n",
    "\n",
    "In the cell below:\n",
    "\n",
    "* Create a `Model` and store it in the variable `encoder`.  The input for this model is `input_img`, and the output for this model is `encoded_image_layer`.  \n",
    "* Create an `Input` layer and store it in `encoded_input`.  Set the `shape` parameter of this input layer to `(encoding_dim,)`\n",
    "* Slice the last layer from our autoencoder's `.layers` attribute and store it in `decoder_layer`\n",
    "* Create another `Model` object and store it in `decoder`.  The input of this model should be `encoded_input`, and the ouput should be `decoder_layer(encoded_input)`."
   ]
  },
  {
   "cell_type": "code",
   "execution_count": 4,
   "metadata": {},
   "outputs": [],
   "source": [
    "encoder = Model(input_img, encoded_image_layer)\n",
    "encoded_input = Input(shape=(encoding_dim,))\n",
    "decoder_layer = autoencoder.layers[-1]\n",
    "decoder = Model(encoded_input, decoder_layer(encoded_input))"
   ]
  },
  {
   "cell_type": "markdown",
   "metadata": {},
   "source": [
    "Now, that we've built our autoencoder and created separate encoder and decoder variables, we still need to compile our autoencoder model.  \n",
    "\n",
    "In the cell below, `.compile()` our autoencoder.  Set the loss to `'binary_crossentropy'` and the optimizer to `'adadelta'`.  \n",
    "\n",
    "(Unlike all the models from previous labs, we won't ask for any `metrics`, since it doesn't make sense for an autoencoder)."
   ]
  },
  {
   "cell_type": "code",
   "execution_count": 5,
   "metadata": {},
   "outputs": [],
   "source": [
    "autoencoder.compile(loss='binary_crossentropy', optimizer='adadelta')"
   ]
  },
  {
   "cell_type": "markdown",
   "metadata": {},
   "source": [
    "## Getting our Training Data\n",
    "\n",
    "We'll train our autoencoder on MNIST for this lab.  However, we do not need the labels, just the images.  \n",
    "\n",
    "In the cell below, call `mnist.load_data()` to store our images in the appropriate variables."
   ]
  },
  {
   "cell_type": "code",
   "execution_count": 6,
   "metadata": {},
   "outputs": [],
   "source": [
    "(X_train, _), (X_test, _) = mnist.load_data()"
   ]
  },
  {
   "cell_type": "markdown",
   "metadata": {},
   "source": [
    "We'll still need to reshape our data into vectors and normalize it.  In the cell below:\n",
    "\n",
    "* Reshape the data inside `X_train` and `X_test` into vectors of size `784` (remember to include the number of samples in each as the first parameter in the `reshape` call.) Also cast the data in each to type `'float32'`.\n",
    "* Normalize the values by dividing the data in each by `255.`"
   ]
  },
  {
   "cell_type": "code",
   "execution_count": 7,
   "metadata": {},
   "outputs": [],
   "source": [
    "X_train = X_train.reshape(60000, 784).astype('float32')\n",
    "X_test = X_test.reshape(10000, 784).astype('float32')\n",
    "X_train /= 255.\n",
    "X_test /= 255."
   ]
  },
  {
   "cell_type": "markdown",
   "metadata": {},
   "source": [
    "Now, we have a compiled model and our data is reshaped and normalized.  All that is left is to fit the model!\n",
    "\n",
    "In the cell below, `.fit()` the autoencoder.  \n",
    "\n",
    "* Pass in `X_train` as the first and second arguments, since the images will act as both our data and our labels.\n",
    "* Train the model for `50` epochs.\n",
    "* Set a batch size of `256`.\n",
    "* Set the `shuffle` parameter to `True`.\n",
    "* Pass in `(X_test, X_test)` as our `validation_data`."
   ]
  },
  {
   "cell_type": "code",
   "execution_count": 8,
   "metadata": {},
   "outputs": [
    {
     "name": "stdout",
     "output_type": "stream",
     "text": [
      "Train on 60000 samples, validate on 10000 samples\n",
      "Epoch 1/50\n",
      "60000/60000 [==============================] - 2s 37us/step - loss: 0.3574 - val_loss: 0.2717\n",
      "Epoch 2/50\n",
      "60000/60000 [==============================] - 2s 34us/step - loss: 0.2654 - val_loss: 0.2557\n",
      "Epoch 3/50\n",
      "60000/60000 [==============================] - 2s 33us/step - loss: 0.2446 - val_loss: 0.2312\n",
      "Epoch 4/50\n",
      "60000/60000 [==============================] - 2s 36us/step - loss: 0.2224 - val_loss: 0.2118\n",
      "Epoch 5/50\n",
      "60000/60000 [==============================] - 2s 35us/step - loss: 0.2061 - val_loss: 0.1981\n",
      "Epoch 6/50\n",
      "60000/60000 [==============================] - 2s 35us/step - loss: 0.1945 - val_loss: 0.1883\n",
      "Epoch 7/50\n",
      "60000/60000 [==============================] - 2s 36us/step - loss: 0.1858 - val_loss: 0.1806\n",
      "Epoch 8/50\n",
      "60000/60000 [==============================] - 2s 33us/step - loss: 0.1787 - val_loss: 0.1742\n",
      "Epoch 9/50\n",
      "60000/60000 [==============================] - 2s 33us/step - loss: 0.1728 - val_loss: 0.1687\n",
      "Epoch 10/50\n",
      "60000/60000 [==============================] - 2s 33us/step - loss: 0.1676 - val_loss: 0.1640\n",
      "Epoch 11/50\n",
      "60000/60000 [==============================] - 2s 33us/step - loss: 0.1630 - val_loss: 0.1596\n",
      "Epoch 12/50\n",
      "60000/60000 [==============================] - 2s 33us/step - loss: 0.1590 - val_loss: 0.1558\n",
      "Epoch 13/50\n",
      "60000/60000 [==============================] - 2s 33us/step - loss: 0.1554 - val_loss: 0.1524\n",
      "Epoch 14/50\n",
      "60000/60000 [==============================] - 2s 33us/step - loss: 0.1521 - val_loss: 0.1493\n",
      "Epoch 15/50\n",
      "60000/60000 [==============================] - 2s 34us/step - loss: 0.1491 - val_loss: 0.1462\n",
      "Epoch 16/50\n",
      "60000/60000 [==============================] - 2s 34us/step - loss: 0.1462 - val_loss: 0.1435\n",
      "Epoch 17/50\n",
      "60000/60000 [==============================] - 2s 36us/step - loss: 0.1435 - val_loss: 0.1408\n",
      "Epoch 18/50\n",
      "60000/60000 [==============================] - 2s 34us/step - loss: 0.1409 - val_loss: 0.1381\n",
      "Epoch 19/50\n",
      "60000/60000 [==============================] - 2s 38us/step - loss: 0.1384 - val_loss: 0.1356\n",
      "Epoch 20/50\n",
      "60000/60000 [==============================] - 2s 36us/step - loss: 0.1359 - val_loss: 0.1333\n",
      "Epoch 21/50\n",
      "60000/60000 [==============================] - 2s 33us/step - loss: 0.1335 - val_loss: 0.1309\n",
      "Epoch 22/50\n",
      "60000/60000 [==============================] - 2s 32us/step - loss: 0.1313 - val_loss: 0.1286\n",
      "Epoch 23/50\n",
      "60000/60000 [==============================] - 2s 33us/step - loss: 0.1291 - val_loss: 0.1265\n",
      "Epoch 24/50\n",
      "60000/60000 [==============================] - 2s 33us/step - loss: 0.1270 - val_loss: 0.1244\n",
      "Epoch 25/50\n",
      "60000/60000 [==============================] - 2s 33us/step - loss: 0.1251 - val_loss: 0.1227\n",
      "Epoch 26/50\n",
      "60000/60000 [==============================] - 2s 33us/step - loss: 0.1233 - val_loss: 0.1208\n",
      "Epoch 27/50\n",
      "60000/60000 [==============================] - 2s 33us/step - loss: 0.1215 - val_loss: 0.1191\n",
      "Epoch 28/50\n",
      "60000/60000 [==============================] - 2s 33us/step - loss: 0.1199 - val_loss: 0.1175\n",
      "Epoch 29/50\n",
      "60000/60000 [==============================] - 2s 33us/step - loss: 0.1184 - val_loss: 0.1160\n",
      "Epoch 30/50\n",
      "60000/60000 [==============================] - 2s 33us/step - loss: 0.1170 - val_loss: 0.1147\n",
      "Epoch 31/50\n",
      "60000/60000 [==============================] - 2s 33us/step - loss: 0.1157 - val_loss: 0.1134\n",
      "Epoch 32/50\n",
      "60000/60000 [==============================] - 2s 33us/step - loss: 0.1145 - val_loss: 0.1122\n",
      "Epoch 33/50\n",
      "60000/60000 [==============================] - 2s 33us/step - loss: 0.1134 - val_loss: 0.1111\n",
      "Epoch 34/50\n",
      "60000/60000 [==============================] - 2s 35us/step - loss: 0.1123 - val_loss: 0.1101\n",
      "Epoch 35/50\n",
      "60000/60000 [==============================] - 2s 37us/step - loss: 0.1113 - val_loss: 0.1092\n",
      "Epoch 36/50\n",
      "60000/60000 [==============================] - 2s 33us/step - loss: 0.1105 - val_loss: 0.1083\n",
      "Epoch 37/50\n",
      "60000/60000 [==============================] - 2s 33us/step - loss: 0.1096 - val_loss: 0.1076\n",
      "Epoch 38/50\n",
      "60000/60000 [==============================] - 2s 33us/step - loss: 0.1089 - val_loss: 0.1068\n",
      "Epoch 39/50\n",
      "60000/60000 [==============================] - 2s 33us/step - loss: 0.1082 - val_loss: 0.1061\n",
      "Epoch 40/50\n",
      "60000/60000 [==============================] - 2s 33us/step - loss: 0.1075 - val_loss: 0.1055\n",
      "Epoch 41/50\n",
      "60000/60000 [==============================] - 2s 33us/step - loss: 0.1069 - val_loss: 0.1049\n",
      "Epoch 42/50\n",
      "60000/60000 [==============================] - 2s 32us/step - loss: 0.1064 - val_loss: 0.1044\n",
      "Epoch 43/50\n",
      "60000/60000 [==============================] - 2s 33us/step - loss: 0.1059 - val_loss: 0.1040\n",
      "Epoch 44/50\n",
      "60000/60000 [==============================] - 2s 33us/step - loss: 0.1054 - val_loss: 0.1034\n",
      "Epoch 45/50\n",
      "60000/60000 [==============================] - 2s 33us/step - loss: 0.1049 - val_loss: 0.1030\n",
      "Epoch 46/50\n",
      "60000/60000 [==============================] - 2s 33us/step - loss: 0.1045 - val_loss: 0.1026\n",
      "Epoch 47/50\n",
      "60000/60000 [==============================] - 2s 33us/step - loss: 0.1041 - val_loss: 0.1022\n",
      "Epoch 48/50\n",
      "60000/60000 [==============================] - 2s 33us/step - loss: 0.1037 - val_loss: 0.1018\n",
      "Epoch 49/50\n",
      "60000/60000 [==============================] - 2s 36us/step - loss: 0.1033 - val_loss: 0.1015\n",
      "Epoch 50/50\n",
      "60000/60000 [==============================] - 2s 40us/step - loss: 0.1030 - val_loss: 0.1011\n"
     ]
    },
    {
     "data": {
      "text/plain": [
       "<keras.callbacks.History at 0x11b812278>"
      ]
     },
     "execution_count": 8,
     "metadata": {},
     "output_type": "execute_result"
    }
   ],
   "source": [
    "autoencoder.fit(X_train, X_train, epochs=50, batch_size=256, shuffle=True, validation_data=(X_test, X_test))"
   ]
  },
  {
   "cell_type": "markdown",
   "metadata": {},
   "source": [
    "Now that we've trained our autoencoder, let's make use the the encoder and decoder separately, and then visualize our results!\n",
    "\n",
    "In the cell below:\n",
    "\n",
    "* Use the `encoder` object to create an encoded representation of `X_test` (use the `.predict()` method!)\n",
    "* Use the `decoder` object to decode the `encoded_imgs` we just created."
   ]
  },
  {
   "cell_type": "code",
   "execution_count": 9,
   "metadata": {},
   "outputs": [],
   "source": [
    "encoded_imgs = encoder.predict(X_test)\n",
    "decoded_imgs = decoder.predict(encoded_imgs)"
   ]
  },
  {
   "cell_type": "markdown",
   "metadata": {},
   "source": [
    "Great! Now, runt he cell below to visualize a a comparison of original images and their encoded/decoded counterparts.  Do you detect much degradation in the images?"
   ]
  },
  {
   "cell_type": "code",
   "execution_count": 10,
   "metadata": {},
   "outputs": [
    {
     "data": {
      "image/png": "[encoded data removed]",
      "text/plain": [
       "<matplotlib.figure.Figure at 0x12a364898>"
      ]
     },
     "metadata": {},
     "output_type": "display_data"
    }
   ],
   "source": [
    " # use Matplotlib (don't ask)\n",
    "import matplotlib.pyplot as plt\n",
    "\n",
    "n = 10  # how many digits we will display\n",
    "plt.figure(figsize=(20, 4))\n",
    "for i in range(n):\n",
    "    # display original\n",
    "    ax = plt.subplot(2, n, i + 1)\n",
    "    plt.imshow(X_test[i].reshape(28, 28))\n",
    "    plt.gray()\n",
    "    ax.get_xaxis().set_visible(False)\n",
    "    ax.get_yaxis().set_visible(False)\n",
    "\n",
    "    # display reconstruction\n",
    "    ax = plt.subplot(2, n, i + 1 + n)\n",
    "    plt.imshow(decoded_imgs[i].reshape(28, 28))\n",
    "    plt.gray()\n",
    "    ax.get_xaxis().set_visible(False)\n",
    "    ax.get_yaxis().set_visible(False)\n",
    "plt.show()"
   ]
  },
  {
   "cell_type": "markdown",
   "metadata": {},
   "source": [
    "## Building a Deeper Autoencoder\n",
    "\n",
    "The model we just built was the simplest possible version of an autoencoder.  It did pretty well considering how small it is, but it still definitely lost some information and degraded the images during the process.  Let's build a deeper model and see how this affects our image degradation!\n",
    "\n",
    "In the cell below, complete the following layers:\n",
    "\n",
    "* `input_img` should be an `Input` layer of shape `(784,)`\n",
    "* `encoded_1` should be a Dense layer with 128 neurons, relu activation, and should be connected to `input_img`\n",
    "* `encoded_2` should be a Dense layer with 64 neurons, relu activation, and should be connected to `encoded_1`\n",
    "* `encoded_3` should be a Dense layer with 32 neurons, relu activation, and should be connected to `encoded_2`\n",
    "* `decoded_1` should be a Dense layer with 64 neurons, relu activation, and should be connected to `encoded_3`\n",
    "* `decoded_2` should be a Dense layer with 128 neurons, relu activation, and should be connected to `decoded_1`\n",
    "* `decoded_3` should be a Dense layer with 784 neurons, sigmoid activation, and should be connected to `decoded_2`"
   ]
  },
  {
   "cell_type": "code",
   "execution_count": 11,
   "metadata": {},
   "outputs": [],
   "source": [
    "input_img = Input(shape=(784,))\n",
    "encoded_1 = Dense(128, activation='relu')(input_img)\n",
    "encoded_2 = Dense(64, activation='relu')(encoded_1)\n",
    "encoded_3 = Dense(32, activation='relu')(encoded_2)\n",
    "\n",
    "decoded_1 = Dense(64, activation='relu')(encoded_3)\n",
    "decoded_2 = Dense(128, activation='relu')(decoded_1)\n",
    "decoded_3 = Dense(784, activation='sigmoid')(decoded_2)"
   ]
  },
  {
   "cell_type": "markdown",
   "metadata": {},
   "source": [
    "Now, create a `Model` object and pass in the first and last layers: `input_img` and `decoded_3`."
   ]
  },
  {
   "cell_type": "code",
   "execution_count": 15,
   "metadata": {},
   "outputs": [],
   "source": [
    "deeper_autoencoder = Model(input_img, decoded_3)"
   ]
  },
  {
   "cell_type": "markdown",
   "metadata": {},
   "source": [
    "Now that we've created our Deep Autoencoder, we'll still need to store references to our Deep Encoder and Deep Decoder separately, so that we can use them individually when needed.  \n",
    "\n",
    "In the cell below:\n",
    "\n",
    "* Store a `Model()` in `deep_encoder`.  In this model, pass in our `input_img` and the last encoder layer  of our deep autoencoder, `encoder_3`.\n",
    "* Store an `Input` layer inside of `deep_encoded_input`, and set the `shape` parameter equal to `(encoding_dim,)`\n",
    "* Store the decoder layers  from `deep_autoencoder` inside of `deep_decoder_layer`  variables with the appropriate numbers--`deep_decoder_layer_1` should correspond to `deep_autoencoder.layers[-3]`, `deep_decoder_layer_2` should correspond to `deep_autoencoder.layers[-2]`, and `deep_decoder_layer_3` should correspond to `deep_autoencoder.layers[-1]`. \n",
    "* Store another `Model()` unit, this time inside of `deep_decoder`.  Pass in `deep_encoded_input` and `decoder_layer(deep_encoded_input)`"
   ]
  },
  {
   "cell_type": "code",
   "execution_count": 16,
   "metadata": {},
   "outputs": [],
   "source": [
    "deep_encoder = Model(input_img, encoded_3)\n",
    "deep_encoded_input = Input(shape=(encoding_dim,))\n",
    "deep_decoder_layer_1 = deeper_autoencoder.layers[-3]\n",
    "deep_decoder_layer_2 = deeper_autoencoder.layers[-2]\n",
    "deep_decoder_layer_3 = deeper_autoencoder.layers[-1]\n",
    "deep_decoder = Model(deep_encoded_input, decoder_layer(deep_encoded_input))"
   ]
  },
  {
   "cell_type": "markdown",
   "metadata": {},
   "source": [
    "Now, compile the model with the same parameters we did before. "
   ]
  },
  {
   "cell_type": "code",
   "execution_count": 17,
   "metadata": {},
   "outputs": [],
   "source": [
    "deeper_autoencoder.compile(loss='binary_crossentropy', optimizer='adadelta')"
   ]
  },
  {
   "cell_type": "markdown",
   "metadata": {},
   "source": [
    "Now, let's fit our Deep Autoencoder. When you fit it this time, set the following parameters:\n",
    "* `epochs=100`\n",
    "* `batch_size=256`\n",
    "* `shuffle=True`\n",
    "* `validation_data=(X_test, X_test)`\n",
    "\n",
    "Don't forget to pass in `X_train` as the first two positional arguments!"
   ]
  },
  {
   "cell_type": "code",
   "execution_count": 18,
   "metadata": {},
   "outputs": [
    {
     "name": "stdout",
     "output_type": "stream",
     "text": [
      "Train on 60000 samples, validate on 10000 samples\n",
      "Epoch 1/100\n",
      "60000/60000 [==============================] - 4s 61us/step - loss: 0.3461 - val_loss: 0.2628\n",
      "Epoch 2/100\n",
      "60000/60000 [==============================] - 4s 61us/step - loss: 0.2580 - val_loss: 0.2533\n",
      "Epoch 3/100\n",
      "60000/60000 [==============================] - 4s 66us/step - loss: 0.2451 - val_loss: 0.2302\n",
      "Epoch 4/100\n",
      "60000/60000 [==============================] - 4s 60us/step - loss: 0.2188 - val_loss: 0.2107\n",
      "Epoch 5/100\n",
      "60000/60000 [==============================] - 4s 60us/step - loss: 0.2059 - val_loss: 0.1982\n",
      "Epoch 6/100\n",
      "60000/60000 [==============================] - 4s 61us/step - loss: 0.1947 - val_loss: 0.1889\n",
      "Epoch 7/100\n",
      "60000/60000 [==============================] - 4s 59us/step - loss: 0.1863 - val_loss: 0.1813\n",
      "Epoch 8/100\n",
      "60000/60000 [==============================] - 4s 59us/step - loss: 0.1792 - val_loss: 0.1743\n",
      "Epoch 9/100\n",
      "60000/60000 [==============================] - 4s 59us/step - loss: 0.1723 - val_loss: 0.1713\n",
      "Epoch 10/100\n",
      "60000/60000 [==============================] - 4s 59us/step - loss: 0.1669 - val_loss: 0.1625\n",
      "Epoch 11/100\n",
      "60000/60000 [==============================] - 4s 64us/step - loss: 0.1627 - val_loss: 0.1601\n",
      "Epoch 12/100\n",
      "60000/60000 [==============================] - 4s 61us/step - loss: 0.1581 - val_loss: 0.1564\n",
      "Epoch 13/100\n",
      "60000/60000 [==============================] - 4s 59us/step - loss: 0.1538 - val_loss: 0.1499\n",
      "Epoch 14/100\n",
      "60000/60000 [==============================] - 4s 60us/step - loss: 0.1501 - val_loss: 0.1462\n",
      "Epoch 15/100\n",
      "60000/60000 [==============================] - 4s 61us/step - loss: 0.1468 - val_loss: 0.1443\n",
      "Epoch 16/100\n",
      "60000/60000 [==============================] - 4s 59us/step - loss: 0.1444 - val_loss: 0.1424\n",
      "Epoch 17/100\n",
      "60000/60000 [==============================] - 4s 59us/step - loss: 0.1422 - val_loss: 0.1409\n",
      "Epoch 18/100\n",
      "60000/60000 [==============================] - 4s 59us/step - loss: 0.1400 - val_loss: 0.1373\n",
      "Epoch 19/100\n",
      "60000/60000 [==============================] - 4s 61us/step - loss: 0.1382 - val_loss: 0.1362\n",
      "Epoch 20/100\n",
      "60000/60000 [==============================] - 4s 64us/step - loss: 0.1365 - val_loss: 0.1334\n",
      "Epoch 21/100\n",
      "60000/60000 [==============================] - 4s 60us/step - loss: 0.1347 - val_loss: 0.1331\n",
      "Epoch 22/100\n",
      "60000/60000 [==============================] - 4s 60us/step - loss: 0.1332 - val_loss: 0.1308\n",
      "Epoch 23/100\n",
      "60000/60000 [==============================] - 4s 60us/step - loss: 0.1320 - val_loss: 0.1303\n",
      "Epoch 24/100\n",
      "60000/60000 [==============================] - 4s 60us/step - loss: 0.1306 - val_loss: 0.1305\n",
      "Epoch 25/100\n",
      "60000/60000 [==============================] - 4s 60us/step - loss: 0.1295 - val_loss: 0.1273\n",
      "Epoch 26/100\n",
      "60000/60000 [==============================] - 4s 60us/step - loss: 0.1283 - val_loss: 0.1278\n",
      "Epoch 27/100\n",
      "60000/60000 [==============================] - 4s 60us/step - loss: 0.1273 - val_loss: 0.1240\n",
      "Epoch 28/100\n",
      "60000/60000 [==============================] - 4s 65us/step - loss: 0.1262 - val_loss: 0.1231\n",
      "Epoch 29/100\n",
      "60000/60000 [==============================] - 4s 60us/step - loss: 0.1250 - val_loss: 0.1224\n",
      "Epoch 30/100\n",
      "60000/60000 [==============================] - 4s 60us/step - loss: 0.1240 - val_loss: 0.1236\n",
      "Epoch 31/100\n",
      "60000/60000 [==============================] - 4s 61us/step - loss: 0.1230 - val_loss: 0.1227\n",
      "Epoch 32/100\n",
      "60000/60000 [==============================] - 4s 61us/step - loss: 0.1222 - val_loss: 0.1210\n",
      "Epoch 33/100\n",
      "60000/60000 [==============================] - 4s 60us/step - loss: 0.1213 - val_loss: 0.1205\n",
      "Epoch 34/100\n",
      "60000/60000 [==============================] - 4s 60us/step - loss: 0.1205 - val_loss: 0.1189\n",
      "Epoch 35/100\n",
      "60000/60000 [==============================] - 4s 62us/step - loss: 0.1198 - val_loss: 0.1191\n",
      "Epoch 36/100\n",
      "60000/60000 [==============================] - 4s 64us/step - loss: 0.1189 - val_loss: 0.1190\n",
      "Epoch 37/100\n",
      "60000/60000 [==============================] - 4s 60us/step - loss: 0.1182 - val_loss: 0.1159\n",
      "Epoch 38/100\n",
      "60000/60000 [==============================] - 4s 59us/step - loss: 0.1176 - val_loss: 0.1152\n",
      "Epoch 39/100\n",
      "60000/60000 [==============================] - 4s 59us/step - loss: 0.1169 - val_loss: 0.1144\n",
      "Epoch 40/100\n",
      "60000/60000 [==============================] - 4s 59us/step - loss: 0.1163 - val_loss: 0.1153\n",
      "Epoch 41/100\n",
      "60000/60000 [==============================] - 4s 60us/step - loss: 0.1158 - val_loss: 0.1131\n",
      "Epoch 42/100\n",
      "60000/60000 [==============================] - 4s 60us/step - loss: 0.1151 - val_loss: 0.1140\n",
      "Epoch 43/100\n",
      "60000/60000 [==============================] - 4s 59us/step - loss: 0.1147 - val_loss: 0.1160\n",
      "Epoch 44/100\n",
      "60000/60000 [==============================] - 4s 62us/step - loss: 0.1141 - val_loss: 0.1127\n",
      "Epoch 45/100\n",
      "60000/60000 [==============================] - 4s 61us/step - loss: 0.1134 - val_loss: 0.1124\n",
      "Epoch 46/100\n",
      "60000/60000 [==============================] - 4s 59us/step - loss: 0.1131 - val_loss: 0.1130\n",
      "Epoch 47/100\n",
      "60000/60000 [==============================] - 4s 60us/step - loss: 0.1125 - val_loss: 0.1112\n",
      "Epoch 48/100\n",
      "60000/60000 [==============================] - 4s 60us/step - loss: 0.1121 - val_loss: 0.1116\n",
      "Epoch 49/100\n",
      "60000/60000 [==============================] - 4s 60us/step - loss: 0.1115 - val_loss: 0.1105\n",
      "Epoch 50/100\n",
      "60000/60000 [==============================] - 4s 60us/step - loss: 0.1111 - val_loss: 0.1098\n",
      "Epoch 51/100\n",
      "60000/60000 [==============================] - 4s 60us/step - loss: 0.1106 - val_loss: 0.1089\n",
      "Epoch 52/100\n",
      "60000/60000 [==============================] - 4s 61us/step - loss: 0.1102 - val_loss: 0.1085\n",
      "Epoch 53/100\n",
      "60000/60000 [==============================] - 4s 66us/step - loss: 0.1098 - val_loss: 0.1074\n",
      "Epoch 54/100\n",
      "60000/60000 [==============================] - 4s 60us/step - loss: 0.1093 - val_loss: 0.1072\n",
      "Epoch 55/100\n",
      "60000/60000 [==============================] - 4s 60us/step - loss: 0.1088 - val_loss: 0.1070\n",
      "Epoch 56/100\n",
      "60000/60000 [==============================] - 4s 60us/step - loss: 0.1084 - val_loss: 0.1080\n",
      "Epoch 57/100\n",
      "60000/60000 [==============================] - 4s 60us/step - loss: 0.1081 - val_loss: 0.1069\n",
      "Epoch 58/100\n",
      "60000/60000 [==============================] - 4s 60us/step - loss: 0.1079 - val_loss: 0.1070\n",
      "Epoch 59/100\n",
      "60000/60000 [==============================] - 4s 60us/step - loss: 0.1075 - val_loss: 0.1047\n",
      "Epoch 60/100\n",
      "60000/60000 [==============================] - 4s 61us/step - loss: 0.1072 - val_loss: 0.1068\n",
      "Epoch 61/100\n",
      "60000/60000 [==============================] - 4s 65us/step - loss: 0.1068 - val_loss: 0.1064\n",
      "Epoch 62/100\n",
      "60000/60000 [==============================] - 4s 62us/step - loss: 0.1064 - val_loss: 0.1057\n",
      "Epoch 63/100\n",
      "60000/60000 [==============================] - 4s 60us/step - loss: 0.1063 - val_loss: 0.1050\n",
      "Epoch 64/100\n",
      "60000/60000 [==============================] - 4s 60us/step - loss: 0.1059 - val_loss: 0.1062\n",
      "Epoch 65/100\n",
      "60000/60000 [==============================] - 4s 60us/step - loss: 0.1057 - val_loss: 0.1076\n",
      "Epoch 66/100\n",
      "60000/60000 [==============================] - 4s 62us/step - loss: 0.1054 - val_loss: 0.1038\n",
      "Epoch 67/100\n",
      "60000/60000 [==============================] - 4s 61us/step - loss: 0.1050 - val_loss: 0.1037\n",
      "Epoch 68/100\n",
      "60000/60000 [==============================] - 4s 61us/step - loss: 0.1047 - val_loss: 0.1064\n",
      "Epoch 69/100\n",
      "60000/60000 [==============================] - 4s 66us/step - loss: 0.1046 - val_loss: 0.1041\n",
      "Epoch 70/100\n",
      "60000/60000 [==============================] - 4s 62us/step - loss: 0.1042 - val_loss: 0.1046\n",
      "Epoch 71/100\n",
      "60000/60000 [==============================] - 4s 61us/step - loss: 0.1040 - val_loss: 0.1058\n",
      "Epoch 72/100\n",
      "60000/60000 [==============================] - 4s 61us/step - loss: 0.1037 - val_loss: 0.1018\n",
      "Epoch 73/100\n",
      "60000/60000 [==============================] - 4s 61us/step - loss: 0.1035 - val_loss: 0.1021\n",
      "Epoch 74/100\n",
      "60000/60000 [==============================] - 4s 62us/step - loss: 0.1033 - val_loss: 0.1028\n",
      "Epoch 75/100\n",
      "60000/60000 [==============================] - 4s 61us/step - loss: 0.1030 - val_loss: 0.1023\n",
      "Epoch 76/100\n",
      "60000/60000 [==============================] - 4s 61us/step - loss: 0.1030 - val_loss: 0.1019\n",
      "Epoch 77/100\n"
     ]
    },
    {
     "name": "stdout",
     "output_type": "stream",
     "text": [
      "60000/60000 [==============================] - 4s 64us/step - loss: 0.1026 - val_loss: 0.1017\n",
      "Epoch 78/100\n",
      "60000/60000 [==============================] - 3s 58us/step - loss: 0.1024 - val_loss: 0.1030\n",
      "Epoch 79/100\n",
      "60000/60000 [==============================] - 4s 58us/step - loss: 0.1022 - val_loss: 0.1020\n",
      "Epoch 80/100\n",
      "60000/60000 [==============================] - 4s 59us/step - loss: 0.1020 - val_loss: 0.1011\n",
      "Epoch 81/100\n",
      "60000/60000 [==============================] - 4s 59us/step - loss: 0.1019 - val_loss: 0.1004\n",
      "Epoch 82/100\n",
      "60000/60000 [==============================] - 4s 59us/step - loss: 0.1017 - val_loss: 0.1020\n",
      "Epoch 83/100\n",
      "60000/60000 [==============================] - 4s 59us/step - loss: 0.1015 - val_loss: 0.1001\n",
      "Epoch 84/100\n",
      "60000/60000 [==============================] - 4s 59us/step - loss: 0.1015 - val_loss: 0.0994\n",
      "Epoch 85/100\n",
      "60000/60000 [==============================] - 4s 60us/step - loss: 0.1011 - val_loss: 0.1009\n",
      "Epoch 86/100\n",
      "60000/60000 [==============================] - 4s 61us/step - loss: 0.1009 - val_loss: 0.1005\n",
      "Epoch 87/100\n",
      "60000/60000 [==============================] - 4s 60us/step - loss: 0.1009 - val_loss: 0.0995\n",
      "Epoch 88/100\n",
      "60000/60000 [==============================] - 3s 58us/step - loss: 0.1007 - val_loss: 0.0999\n",
      "Epoch 89/100\n",
      "60000/60000 [==============================] - 4s 59us/step - loss: 0.1006 - val_loss: 0.0990\n",
      "Epoch 90/100\n",
      "60000/60000 [==============================] - 4s 59us/step - loss: 0.1003 - val_loss: 0.1015\n",
      "Epoch 91/100\n",
      "60000/60000 [==============================] - 4s 59us/step - loss: 0.1001 - val_loss: 0.0994\n",
      "Epoch 92/100\n",
      "60000/60000 [==============================] - 4s 59us/step - loss: 0.1000 - val_loss: 0.0989\n",
      "Epoch 93/100\n",
      "60000/60000 [==============================] - 4s 59us/step - loss: 0.0998 - val_loss: 0.0990\n",
      "Epoch 94/100\n",
      "60000/60000 [==============================] - 4s 63us/step - loss: 0.0997 - val_loss: 0.1008\n",
      "Epoch 95/100\n",
      "60000/60000 [==============================] - 4s 59us/step - loss: 0.0996 - val_loss: 0.0993\n",
      "Epoch 96/100\n",
      "60000/60000 [==============================] - 4s 59us/step - loss: 0.0995 - val_loss: 0.1000\n",
      "Epoch 97/100\n",
      "60000/60000 [==============================] - 4s 59us/step - loss: 0.0992 - val_loss: 0.0977\n",
      "Epoch 98/100\n",
      "60000/60000 [==============================] - 4s 59us/step - loss: 0.0990 - val_loss: 0.0974\n",
      "Epoch 99/100\n",
      "60000/60000 [==============================] - 4s 59us/step - loss: 0.0990 - val_loss: 0.0991\n",
      "Epoch 100/100\n",
      "60000/60000 [==============================] - 4s 59us/step - loss: 0.0988 - val_loss: 0.0979\n"
     ]
    },
    {
     "data": {
      "text/plain": [
       "<keras.callbacks.History at 0x135805dd8>"
      ]
     },
     "execution_count": 18,
     "metadata": {},
     "output_type": "execute_result"
    }
   ],
   "source": [
    "deeper_autoencoder.fit(X_train, X_train, epochs=100, \n",
    "                       batch_size=256, shuffle=True, \n",
    "                       validation_data=(X_test, X_test))"
   ]
  },
  {
   "cell_type": "markdown",
   "metadata": {},
   "source": [
    "Now, let's encode and then decode the data in `X_test` with our Deep Autonencoder, so that we can reuse our visualization code and compare our decoded images with the original images.\n",
    "\n",
    "In the cell below, encode and then decode the images "
   ]
  },
  {
   "cell_type": "code",
   "execution_count": 21,
   "metadata": {},
   "outputs": [],
   "source": [
    "deep_encoded_imgs = deep_encoder.predict(X_test)\n",
    "deep_decoded_imgs  = deep_decoder.predict(deep_encoded_imgs)"
   ]
  },
  {
   "cell_type": "markdown",
   "metadata": {},
   "source": [
    "Now, run the cell below to visualize our results."
   ]
  },
  {
   "cell_type": "code",
   "execution_count": 22,
   "metadata": {},
   "outputs": [
    {
     "data": {
      "image/png": "[encoded data removed]",
      "text/plain": [
       "<matplotlib.figure.Figure at 0x136389828>"
      ]
     },
     "metadata": {},
     "output_type": "display_data"
    }
   ],
   "source": [
    "n = 10  # how many digits we will display\n",
    "plt.figure(figsize=(20, 4))\n",
    "for i in range(n):\n",
    "    # display original\n",
    "    ax = plt.subplot(2, n, i + 1)\n",
    "    plt.imshow(X_test[i].reshape(28, 28))\n",
    "    plt.gray()\n",
    "    ax.get_xaxis().set_visible(False)\n",
    "    ax.get_yaxis().set_visible(False)\n",
    "\n",
    "    # display reconstruction\n",
    "    ax = plt.subplot(2, n, i + 1 + n)\n",
    "    plt.imshow(decoded_imgs[i].reshape(28, 28))\n",
    "    plt.gray()\n",
    "    ax.get_xaxis().set_visible(False)\n",
    "    ax.get_yaxis().set_visible(False)\n",
    "plt.show()"
   ]
  },
  {
   "cell_type": "markdown",
   "metadata": {},
   "source": [
    "There still seems to be a little information loss in the form of image degradation, but the results are clearly better than the simple encoder we built before. "
   ]
  },
  {
   "cell_type": "markdown",
   "metadata": {},
   "source": [
    "## Bonus: Convolutional Autoencoders (Optional, GPU recommended)\n",
    "\n",
    "The best autoencoders make use of Convolutional layers.  We've included the following code to build a Deep Convolutional Autoencoder. However, the training time on this model will be quite long.  \n",
    "\n",
    "We've provided the example code to build the model.  However, we haven't provided the code for storing the encoder and decoder portions separately, or the code to compile and fit the model.  If you're up for a challenge, and don't mind a long run time, try to get the Deep Convolutional Autoencoder working below!\n",
    "\n",
    "### The Architecture\n",
    "\n",
    "If you read the code of the model below, you'll probably notice that the encoder portion looks fairly straightforward--the architecture is in line with what you would expect from a traditional CNN model--Conv2d layers with relu activations, followed by MaxPooling layers to reduce dimensionality.  However, in the decoder, you may have noticed a layer type we haven't encountered before--an **_UpSampling2D_** layer! This isn't as confusing as it looks--an upsampling layer is essentially the opposite of a MaxPooling layer. Whereas MaxPooling reduces our dimensionality section by section using a filter, Upsampling increases it!"
   ]
  },
  {
   "cell_type": "code",
   "execution_count": null,
   "metadata": {},
   "outputs": [],
   "source": [
    "conv_input_img = Input(shape=(28, 28, 1))  # adapt this if using `channels_first` image data format\n",
    "\n",
    "conv_encoder_1 = Conv2D(16, (3, 3), activation='relu', padding='same')(conv_input_img)\n",
    "conv_encoder_2 = MaxPooling2D((2, 2), padding='same')(conv_encoder_1)\n",
    "conv_encoder_3 = Conv2D(8, (3, 3), activation='relu', padding='same')(conv_encoder_2)\n",
    "conv_encoder_4 = MaxPooling2D((2, 2), padding='same')(conv_encoder_3)\n",
    "conv_encoder_5 = Conv2D(8, (3, 3), activation='relu', padding='same')(conv_encoder_4)\n",
    "conv_encoded = MaxPooling2D((2, 2), padding='same')(conv_encoder_5)\n",
    "\n",
    "# at this point the representation is (4, 4, 8) i.e. 128-dimensional\n",
    "\n",
    "conv_decoder_1 = Conv2D(8, (3, 3), activation='relu', padding='same')(conv_encoded)\n",
    "conv_decoder_2 = UpSampling2D((2, 2))(conv_decoder_1)\n",
    "conv_decoder_3 = Conv2D(8, (3, 3), activation='relu', padding='same')(conv_decoder_2)\n",
    "conv_decoder_4 = UpSampling2D((2, 2))(conv_decoder_3)\n",
    "conv_decoder_5 = Conv2D(16, (3, 3), activation='relu')(conv_decoder_4)\n",
    "conv_decoder_6 = UpSampling2D((2, 2))(conv_decoder_5)\n",
    "conv_decoded = Conv2D(1, (3, 3), activation='sigmoid', padding='same')(conv_decoder_6)\n",
    "\n",
    "conv_autoencoder = Model(conv_input_img, conv_decoded)\n",
    "conv_autoencoder.compile(optimizer='adadelta', loss='binary_crossentropy')"
   ]
  },
  {
   "cell_type": "markdown",
   "metadata": {},
   "source": [
    "## The Data\n",
    "\n",
    "Recall that we reshaped our data to a vector since we were working with Dense layers in the previous models.  This won't work for a Convolutional Autoencoder, since the `Conv2D` layers will expect 2 dimensional images as inputs. \n",
    "\n",
    "The easiest option for us here is to just reimport the data and store it separately.\n",
    "\n",
    "In the cell below, import the data using the `mnist` module we imported above.  Normalize the data by dividing by `255.` (you'll need to use numpy for this), and reshape it from it's current shape to `(28, 28, 1)`."
   ]
  },
  {
   "cell_type": "code",
   "execution_count": null,
   "metadata": {},
   "outputs": [],
   "source": [
    "(X_train, _), (X_test, _) = mnist.load_data()\n",
    "X_train = X_train.reshape(60000, 28, 28, 1).astype('float32')\n",
    "X_test = X_test.reshape(10000, 28, 28, 1).astype('float32')\n",
    "X_train = np.divide(X_train, 255.)\n",
    "X_test = np.divide(X_test, 255.)"
   ]
  },
  {
   "cell_type": "markdown",
   "metadata": {},
   "source": [
    "## The Remaining Steps\n",
    "\n",
    "In order to complete this optional section, you'll still need to:\n",
    "\n",
    "* Store the encoder and the decoder in separate variables.\n",
    "* Compile and train the model.\n",
    "* Encode and then decode the images in `X_test`\n",
    "* Reuse our visualization code to compare the output with the original images!\n",
    "\n",
    "**_NOTE:_** You've been warned--this will likely take a very long time to train on a CPU.  If you don't have a GPU to train on, this will take a while!\n",
    "\n",
    "Try to complete the steps mentioned above and train your very own Deep Convolutional Autoencoder!"
   ]
  },
  {
   "cell_type": "markdown",
   "metadata": {},
   "source": [
    "## Sources\n",
    "\n",
    "[Keras Blog--Autoencoders in Keras](https://blog.keras.io/building-autoencoders-in-keras.html)"
   ]
  }
 ],
 "metadata": {
  "kernelspec": {
   "display_name": "Python 3",
   "language": "python",
   "name": "python3"
  },
  "language_info": {
   "codemirror_mode": {
    "name": "ipython",
    "version": 3
   },
   "file_extension": ".py",
   "mimetype": "text/x-python",
   "name": "python",
   "nbconvert_exporter": "python",
   "pygments_lexer": "ipython3",
   "version": "3.6.4"
  }
 },
 "nbformat": 4,
 "nbformat_minor": 2
}
